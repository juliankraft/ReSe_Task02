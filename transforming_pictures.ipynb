{
 "cells": [
  {
   "cell_type": "code",
   "execution_count": 7,
   "metadata": {},
   "outputs": [],
   "source": [
    "from osgeo import gdal\n",
    "import os\n",
    "import glob\n",
    "from PIL import Image"
   ]
  },
  {
   "cell_type": "code",
   "execution_count": 5,
   "metadata": {},
   "outputs": [],
   "source": [
    "source_path = './data/gee/extent2'\n",
    "target_path = './data/gee_jpg/extent2'\n",
    "files = os.listdir(source_path)\n",
    "files\n",
    "\n",
    "options = ['QUALITY=100']\n",
    "\n",
    "if not os.path.exists(target_path):\n",
    "    os.makedirs(target_path)\n",
    "\n",
    "for file in files:\n",
    "    dataset = gdal.Open(f'{source_path}/{file}')\n",
    "    gdal.Translate(f'{target_path}/{file.replace('.tif', '.jpg')}', dataset, format='JPEG', creationOptions=options)"
   ]
  },
  {
   "cell_type": "code",
   "execution_count": 11,
   "metadata": {},
   "outputs": [],
   "source": [
    "source_path = './data/gee_jpg/extent2'\n",
    "files = os.listdir(source_path)\n",
    "files\n",
    "\n",
    "def make_gif(frame_folder, gifname):\n",
    "    frames = [Image.open(image) for image in glob.glob(f\"{frame_folder}/*.jpg\")]\n",
    "    frame_one = frames[0]\n",
    "    frame_one.save(gifname, format=\"GIF\", append_images=frames,\n",
    "               save_all=True, duration=1000, loop=0)\n",
    "\n",
    "make_gif(source_path, f'{source_path}/extent2.gif')\n"
   ]
  },
  {
   "cell_type": "code",
   "execution_count": null,
   "metadata": {},
   "outputs": [],
   "source": []
  }
 ],
 "metadata": {
  "kernelspec": {
   "display_name": "geodata_env",
   "language": "python",
   "name": "python3"
  },
  "language_info": {
   "codemirror_mode": {
    "name": "ipython",
    "version": 3
   },
   "file_extension": ".py",
   "mimetype": "text/x-python",
   "name": "python",
   "nbconvert_exporter": "python",
   "pygments_lexer": "ipython3",
   "version": "3.12.2"
  }
 },
 "nbformat": 4,
 "nbformat_minor": 2
}
