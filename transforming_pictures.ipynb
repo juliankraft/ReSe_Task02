{
 "cells": [
  {
   "cell_type": "code",
   "execution_count": 1,
   "metadata": {},
   "outputs": [],
   "source": [
    "from osgeo import gdal\n",
    "import os\n",
    "import glob\n",
    "from PIL import Image, ImageDraw, ImageFont"
   ]
  },
  {
   "cell_type": "code",
   "execution_count": 19,
   "metadata": {},
   "outputs": [
    {
     "name": "stderr",
     "output_type": "stream",
     "text": [
      "c:\\Users\\kraft\\.conda\\envs\\geodata_env\\Lib\\site-packages\\osgeo\\gdal.py:312: FutureWarning: Neither gdal.UseExceptions() nor gdal.DontUseExceptions() has been explicitly called. In GDAL 4.0, exceptions will be enabled by default.\n",
      "  warnings.warn(\n"
     ]
    }
   ],
   "source": [
    "source_path = './data/gee/extent2'\n",
    "target_path = './data/gee_jpg/extent2'\n",
    "files = os.listdir(source_path)\n",
    "files\n",
    "\n",
    "options = ['QUALITY=100']\n",
    "\n",
    "if not os.path.exists(target_path):\n",
    "    os.makedirs(target_path)\n",
    "\n",
    "for file in files:\n",
    "    dataset = gdal.Open(f'{source_path}/{file}')\n",
    "    gdal.Translate(f'{target_path}/{file.replace('.tif', '.jpg')}', dataset, format='JPEG', creationOptions=options)"
   ]
  },
  {
   "cell_type": "code",
   "execution_count": 2,
   "metadata": {},
   "outputs": [],
   "source": [
    "source_path = './data/gee_jpg/extent2'\n",
    "files = os.listdir(source_path)\n",
    "files\n",
    "\n",
    "def make_gif(frame_folder, gifname):\n",
    "    frames = [Image.open(image) for image in glob.glob(f\"{frame_folder}/*.jpg\")]\n",
    "    frame_one = frames[0]\n",
    "    frame_one.save(gifname, format=\"GIF\", append_images=frames,\n",
    "               save_all=True, duration=1000, loop=0)\n"
   ]
  },
  {
   "cell_type": "code",
   "execution_count": 7,
   "metadata": {},
   "outputs": [],
   "source": [
    "source_path = './data/gee_jpg/extent1'\n",
    "target_path = './data/gee_play/extent1'\n",
    "\n",
    "if not os.path.exists(target_path):\n",
    "    os.makedirs(target_path)\n",
    "\n",
    "def save_images_with_titles(source_folder, target_folder):\n",
    "    files_names = [file for file in os.listdir(source_path) if file.endswith('.jpg')]\n",
    "    images = glob.glob(f\"{source_path}/*.jpg\")\n",
    "\n",
    "    for image_s, file_name in zip(images, files_names):\n",
    "        # Open the image\n",
    "        image = Image.open(image_s)\n",
    "\n",
    "        title = f'Extent 1: {file_name.split('_')[-1].split('.')[0]}'\n",
    "\n",
    "        target = f'{target_path}/{file_name}'\n",
    "\n",
    "        # Create a new image with space for the title\n",
    "        new_image = Image.new('RGB', (image.width, image.height + 100), color='white')\n",
    "        new_image.paste(image, (0, 100))\n",
    "\n",
    "        # Add the title\n",
    "        draw = ImageDraw.Draw(new_image)\n",
    "        font = ImageFont.truetype(\"arial\", 90)\n",
    "        draw.text((10, 5), title, font=font, fill='black')\n",
    "\n",
    "        # Save the new image\n",
    "        new_image.save(target)\n",
    "\n",
    "save_images_with_titles(source_path, target_path)\n",
    "make_gif(target_path, f'{target_path}/bumba_extent1.gif')"
   ]
  },
  {
   "cell_type": "code",
   "execution_count": null,
   "metadata": {},
   "outputs": [],
   "source": [
    "def save_images_with_titles(source_folder, target_folder):\n",
    "    files_names = os.listdir(source_path)\n",
    "    images = glob.glob(f\"{source_folder}/*.jpg\")\n",
    "    \n",
    "    for image_path, title in zip(images, files_names):\n",
    "        # Open the image\n",
    "        image = Image.open(image_path)\n",
    "\n",
    "        # Create a new image with space for the title\n",
    "        new_image = Image.new('RGB', (image.width, image.height + 50))\n",
    "        new_image.paste(image, (0, 50))\n",
    "\n",
    "        # Add the title\n",
    "        draw = ImageDraw.Draw(new_image)\n",
    "        font = ImageFont.load_default()  # Change this to use a different font\n",
    "        draw.text((10, 10), title, font=font, fill='white')\n",
    "\n",
    "        # Save the new image\n",
    "        new_image.save(image_path)"
   ]
  }
 ],
 "metadata": {
  "kernelspec": {
   "display_name": "geodata_env",
   "language": "python",
   "name": "python3"
  },
  "language_info": {
   "codemirror_mode": {
    "name": "ipython",
    "version": 3
   },
   "file_extension": ".py",
   "mimetype": "text/x-python",
   "name": "python",
   "nbconvert_exporter": "python",
   "pygments_lexer": "ipython3",
   "version": "3.12.2"
  }
 },
 "nbformat": 4,
 "nbformat_minor": 2
}
