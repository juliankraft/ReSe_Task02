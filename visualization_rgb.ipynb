{
 "cells": [
  {
   "cell_type": "code",
   "execution_count": 2,
   "metadata": {},
   "outputs": [],
   "source": [
    "# importing libraries\n",
    "import cartopy.feature as cf\n",
    "import cartopy.crs as ccrs\n",
    "import xarray as xr\n",
    "import matplotlib.pyplot as plt\n",
    "from cartopy.mpl.gridliner import LONGITUDE_FORMATTER, LATITUDE_FORMATTER\n",
    "import geopandas as gpd\n",
    "import numpy as np\n",
    "import matplotlib.colors as colors\n",
    "import matplotlib.colorbar as colorbar\n",
    "from matplotlib.colors import LinearSegmentedColormap\n",
    "import os\n",
    "import glob\n",
    "from PIL import Image\n",
    "import gc"
   ]
  },
  {
   "cell_type": "code",
   "execution_count": 9,
   "metadata": {},
   "outputs": [],
   "source": [
    "def load_data(path):\n",
    "    try:\n",
    "        data = xr.open_dataset(path).rename(dict(x='lon', y='lat', t='time'))\n",
    "        # data.attrs = {'long_name': 'NDVI', 'units': '-'}\n",
    "        \n",
    "    except FileNotFoundError:\n",
    "        data = None\n",
    "    \n",
    "    return data\n",
    "\n",
    "def nan_mask(array, band_name, title):\n",
    "    nan_mask = np.isnan(array)\n",
    "    if np.any(nan_mask):\n",
    "        # print(f\"{title} has NaN values in {band_name} Band\")\n",
    "        return True\n",
    "    else:\n",
    "        return False\n",
    "\n",
    "def png_export(datacube, path, extent, percentile = None): \n",
    "\n",
    "    if not os.path.exists(path):\n",
    "        os.makedirs(path)\n",
    "\n",
    "    for i in range (len(datacube['time'])):\n",
    "        date = str(datacube['time'].values[i])[:10]\n",
    "        title = f'Bumba Extent {extent}: {date}'\n",
    "        filename = f'{path}/ex{extent}_{date}.png'\n",
    "\n",
    "        # Selecting data at the first time index\n",
    "        selected_time_data = datacube.isel(time=i)  # Use sel(time='your_time_value') if you know the exact time value\n",
    "\n",
    "        # Extracting specific bands for the true color image\n",
    "        blue = selected_time_data['B02']\n",
    "        green = selected_time_data['B03']\n",
    "        red = selected_time_data['B04']\n",
    "\n",
    "        nan_b = nan_mask(blue, 'Blue', title)\n",
    "        nan_g = nan_mask(green, 'Green', title)\n",
    "        nan_r = nan_mask(red, 'Red', title)\n",
    "\n",
    "        if not (nan_b or nan_g or nan_r):\n",
    "\n",
    "            # Normalization function\n",
    "            if percentile is None:\n",
    "                def normalize(band):\n",
    "                    return (band - band.min()) / (band.max() - band.min())\n",
    "            \n",
    "            else:\n",
    "                def normalize(band, percentile):\n",
    "                    lower = np.percentile(band, percentile[0])\n",
    "                    upper = np.percentile(band, percentile[1])\n",
    "                    normalized = (band - lower) / (upper - lower)\n",
    "                    return np.clip(normalized, 0, 1)\n",
    "            \n",
    "            blue_norm = normalize(blue, percentile)\n",
    "            green_norm = normalize(green, percentile)\n",
    "            red_norm = normalize(red, percentile)\n",
    "\n",
    "            # Combine into an RGB array\n",
    "            rgb = np.stack([red_norm, green_norm, blue_norm], axis=-1)\n",
    "\n",
    "            # Set up figure size based on the data aspect ratio\n",
    "            aspect_ratio = blue.shape[1] / blue.shape[0]  # Assuming width/height\n",
    "            fig_width = 7 # You can adjust this size to better fit your screen or output medium\n",
    "            fig_height = fig_width / aspect_ratio\n",
    "\n",
    "            plt.figure(figsize=(fig_width, fig_height))\n",
    "            plt.imshow(rgb)\n",
    "            plt.title(title)  # Add your title here\n",
    "            plt.axis('off')  # Hide axes to enhance the image focus\n",
    "            plt.savefig(filename, dpi=300, bbox_inches='tight')\n",
    "            plt.close()\n",
    "        \n",
    "        else:\n",
    "            print(f\"Skipping {title} due to NaN values\")"
   ]
  },
  {
   "cell_type": "code",
   "execution_count": 68,
   "metadata": {},
   "outputs": [],
   "source": [
    "# paths = [\"./data/bumba_RGB_ex1.nc\", \"./data/bumba_RGB_ex2.nc\"]\n",
    "\n",
    "# for i in range(2):\n",
    "#     datacube = load_data(paths[i])\n",
    "#     png_export(datacube, './data/output2', i+1)\n",
    "#     del datacube"
   ]
  },
  {
   "cell_type": "code",
   "execution_count": 10,
   "metadata": {},
   "outputs": [
    {
     "name": "stdout",
     "output_type": "stream",
     "text": [
      "Skipping Bumba Extent 2: 2020-05-21 due to NaN values\n",
      "Skipping Bumba Extent 2: 2020-06-25 due to NaN values\n",
      "Skipping Bumba Extent 2: 2020-06-30 due to NaN values\n",
      "Skipping Bumba Extent 2: 2020-07-05 due to NaN values\n",
      "Skipping Bumba Extent 2: 2020-07-30 due to NaN values\n",
      "Skipping Bumba Extent 2: 2020-08-14 due to NaN values\n",
      "Skipping Bumba Extent 2: 2020-08-19 due to NaN values\n"
     ]
    }
   ],
   "source": [
    "paths = [\"./data/bumba_RGB_ex1.nc\", \"./data/bumba_RGB_ex2.nc\"]\n",
    "\n",
    "datacube = load_data(paths[1])\n",
    "png_export(datacube, './data/extent2/advanced_norm3', 2, percentile = [25, 75])"
   ]
  }
 ],
 "metadata": {
  "kernelspec": {
   "display_name": "geodata_env",
   "language": "python",
   "name": "python3"
  },
  "language_info": {
   "codemirror_mode": {
    "name": "ipython",
    "version": 3
   },
   "file_extension": ".py",
   "mimetype": "text/x-python",
   "name": "python",
   "nbconvert_exporter": "python",
   "pygments_lexer": "ipython3",
   "version": "3.12.2"
  }
 },
 "nbformat": 4,
 "nbformat_minor": 2
}
